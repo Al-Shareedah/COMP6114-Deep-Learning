{
 "cells": [
  {
   "cell_type": "code",
   "execution_count": 24,
   "metadata": {},
   "outputs": [],
   "source": [
    "from __future__ import print_function\n",
    "import numpy as np\n",
    "import pandas as pd\n",
    "import matplotlib.pyplot as plt\n",
    "from sklearn.model_selection import GridSearchCV\n",
    "from sklearn.model_selection import RepeatedStratifiedKFold\n",
    "from keras.wrappers.scikit_learn import KerasClassifier\n",
    "from pandas import read_csv\n",
    "from tensorflow import keras\n",
    "from tensorflow.keras import layers\n",
    "from tensorflow.keras.datasets import mnist\n",
    "from tensorflow.keras.utils import to_categorical\n",
    "from tensorflow.keras import Sequential\n",
    "from tensorflow.keras.layers import Dense\n",
    "from tensorflow.keras.layers import Dropout\n",
    "from sklearn.model_selection import train_test_split\n",
    "from keras.callbacks import History \n",
    "from sklearn.model_selection import RandomizedSearchCV\n",
    "history = History()"
   ]
  },
  {
   "cell_type": "code",
   "execution_count": 19,
   "metadata": {},
   "outputs": [],
   "source": [
    "(x_train, y_train), (x_test, y_test)= mnist.load_data()\n",
    "x_train=x_train.reshape(60000, 784)\n",
    "x_test=x_test.reshape(10000, 784)\n",
    "x_train=x_train.astype('float32')\n",
    "x_test=x_test.astype('float32')\n",
    "x_train=x_train/ 255.0\n",
    "x_test=x_test / 255.0\n"
   ]
  },
  {
   "cell_type": "code",
   "execution_count": 8,
   "metadata": {},
   "outputs": [
    {
     "name": "stdout",
     "output_type": "stream",
     "text": [
      "375/375 [==============================] - 14s 37ms/step - loss: 0.2996 - accuracy: 0.9083\n"
     ]
    }
   ],
   "source": [
    "Y_train= to_categorical(y_train, 10)\n",
    "Y_test= to_categorical(y_test, 10)\n",
    "def create_model(optimizer=\"adam\", activation=\"relu\", dropout=0.2):\n",
    "    \n",
    "    model=keras.Sequential()\n",
    "\n",
    "    model.add(Dense(512, input_shape=(784,), activation=activation))\n",
    "    model.add(Dropout(dropout))\n",
    "    model.add(Dense(512, activation=activation))\n",
    "    model.add(Dropout(dropout))\n",
    "    model.add(Dense(512, activation=activation))\n",
    "    model.add(Dropout(dropout))\n",
    "\n",
    "\n",
    "    model.add(Dense(10, activation='softmax'))\n",
    "\n",
    "\n",
    "\n",
    "    model.compile(\n",
    "        optimizer=optimizer,\n",
    "        loss='categorical_crossentropy',\n",
    "        metrics=[\"accuracy\"]\n",
    "        \n",
    "\n",
    "        )\n",
    "    return model\n",
    "model = KerasClassifier(build_fn=create_model)\n",
    "#define the grid search parameter\n",
    "batch_size = [80, 120, 160, 180, 220]\n",
    "optimizer = [\"SGD\", \"adam\", \"RMSprop\", \"Adadelta\"]\n",
    "dropout = [0.0, 0.1, 0.2, 0.3]\n",
    "activation = ['relu', 'sigmoid', 'tanh', 'hard_sigmoid']\n",
    "\n",
    "search_pool = dict(batch_size=batch_size, optimizer=optimizer, dropout=dropout, activation =activation )\n",
    "\n",
    "grid = RandomizedSearchCV(model,search_pool, return_train_score=True, n_jobs=-1)\n",
    "grid_result = grid.fit(x_train, Y_train)\n",
    "\n",
    "\n",
    "\n",
    "\n",
    "\n",
    "\n"
   ]
  },
  {
   "cell_type": "code",
   "execution_count": 53,
   "metadata": {},
   "outputs": [
    {
     "name": "stdout",
     "output_type": "stream",
     "text": [
      "   mean_fit_time  std_fit_time  mean_score_time  std_score_time  \\\n",
      "0      36.387972      0.693495         4.119682        0.372925   \n",
      "1      37.075226      0.762829         5.424624        0.692208   \n",
      "2      40.837907      2.241702         6.170437        1.132162   \n",
      "3      45.521793      3.590676         7.305164        0.839374   \n",
      "4      47.095465      5.926460         6.247277        1.288918   \n",
      "5      46.130623      5.928985         7.132157        2.322345   \n",
      "6      48.530403      4.443826         6.489252        1.875155   \n",
      "7      59.534481      7.110379         7.577117        4.584902   \n",
      "8      58.296907      9.075333        10.283535        6.252412   \n",
      "9      49.277190      0.414743         5.323896        1.554483   \n",
      "\n",
      "  param_optimizer param_dropout param_batch_size param_activation  \\\n",
      "0            adam           0.2              220             relu   \n",
      "1             SGD           0.1              180             tanh   \n",
      "2            adam             0              220             relu   \n",
      "3             SGD           0.3              180             tanh   \n",
      "4        Adadelta             0              180             relu   \n",
      "5        Adadelta           0.2              160             relu   \n",
      "6            adam           0.3              160             relu   \n",
      "7             SGD           0.1               80     hard_sigmoid   \n",
      "8             SGD           0.3               80             tanh   \n",
      "9         RMSprop             0              220          sigmoid   \n",
      "\n",
      "                                              params  split0_test_score  ...  \\\n",
      "0  {'optimizer': 'adam', 'dropout': 0.2, 'batch_s...           0.959667  ...   \n",
      "1  {'optimizer': 'SGD', 'dropout': 0.1, 'batch_si...           0.869083  ...   \n",
      "2  {'optimizer': 'adam', 'dropout': 0.0, 'batch_s...           0.957417  ...   \n",
      "3  {'optimizer': 'SGD', 'dropout': 0.3, 'batch_si...           0.861667  ...   \n",
      "4  {'optimizer': 'Adadelta', 'dropout': 0.0, 'bat...           0.188583  ...   \n",
      "5  {'optimizer': 'Adadelta', 'dropout': 0.2, 'bat...           0.229583  ...   \n",
      "6  {'optimizer': 'adam', 'dropout': 0.3, 'batch_s...           0.959583  ...   \n",
      "7  {'optimizer': 'SGD', 'dropout': 0.1, 'batch_si...           0.112583  ...   \n",
      "8  {'optimizer': 'SGD', 'dropout': 0.3, 'batch_si...           0.888917  ...   \n",
      "9  {'optimizer': 'RMSprop', 'dropout': 0.0, 'batc...           0.820667  ...   \n",
      "\n",
      "   mean_test_score  std_test_score  rank_test_score  split0_train_score  \\\n",
      "0         0.958200        0.002939                2            0.964229   \n",
      "1         0.860350        0.008787                5            0.863021   \n",
      "2         0.955950        0.003629                3            0.964354   \n",
      "3         0.855933        0.009347                6            0.857417   \n",
      "4         0.188367        0.060823                8            0.195000   \n",
      "5         0.174383        0.038193                9            0.234500   \n",
      "6         0.958583        0.002105                1            0.964458   \n",
      "7         0.104100        0.004911               10            0.112313   \n",
      "8         0.882633        0.005171                4            0.885604   \n",
      "9         0.842567        0.022857                7            0.813729   \n",
      "\n",
      "   split1_train_score  split2_train_score  split3_train_score  \\\n",
      "0            0.967417            0.965208            0.964542   \n",
      "1            0.859229            0.865875            0.861083   \n",
      "2            0.967646            0.962208            0.966875   \n",
      "3            0.856625            0.858417            0.858500   \n",
      "4            0.101000            0.200250            0.163208   \n",
      "5            0.188729            0.166792            0.176229   \n",
      "6            0.967542            0.966313            0.966729   \n",
      "7            0.105312            0.104854            0.097292   \n",
      "8            0.886167            0.887542            0.889833   \n",
      "9            0.847167            0.892687            0.840896   \n",
      "\n",
      "   split4_train_score  mean_train_score  std_train_score  \n",
      "0            0.966896          0.965658         0.001274  \n",
      "1            0.859229          0.861687         0.002521  \n",
      "2            0.969083          0.966033         0.002452  \n",
      "3            0.859146          0.858021         0.000891  \n",
      "4            0.274563          0.186804         0.056336  \n",
      "5            0.114104          0.176071         0.038730  \n",
      "6            0.965979          0.966204         0.001017  \n",
      "7            0.113958          0.106746         0.005967  \n",
      "8            0.881625          0.886154         0.002694  \n",
      "9            0.823479          0.843592         0.027301  \n",
      "\n",
      "[10 rows x 24 columns]\n"
     ]
    },
    {
     "data": {
      "image/png": "[encoded data removed]",
      "text/plain": [
       "<Figure size 432x288 with 1 Axes>"
      ]
     },
     "metadata": {
      "needs_background": "light"
     },
     "output_type": "display_data"
    }
   ],
   "source": [
    "#print(grid_result.cv_results_)\n",
    "df_cv_results = pd.DataFrame(grid_result.cv_results_)\n",
    "print (df_cv_results)\n",
    "selected_col=df_cv_results[[\"mean_train_score\",\"param_batch_size\"]]\n",
    "new_df = selected_col.copy()\n",
    "new_df.plot(x ='param_batch_size', y='mean_train_score', kind = 'bar')\n",
    "plt.show()\n",
    "\n"
   ]
  },
  {
   "cell_type": "code",
   "execution_count": null,
   "metadata": {},
   "outputs": [],
   "source": []
  }
 ],
 "metadata": {
  "kernelspec": {
   "display_name": "Python 3",
   "language": "python",
   "name": "python3"
  },
  "language_info": {
   "codemirror_mode": {
    "name": "ipython",
    "version": 3
   },
   "file_extension": ".py",
   "mimetype": "text/x-python",
   "name": "python",
   "nbconvert_exporter": "python",
   "pygments_lexer": "ipython3",
   "version": "3.5.2"
  }
 },
 "nbformat": 4,
 "nbformat_minor": 4
}
